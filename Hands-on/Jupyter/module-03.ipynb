{
 "cells": [
  {
   "attachments": {},
   "cell_type": "markdown",
   "metadata": {
    "dotnet_interactive": {
     "language": "csharp"
    }
   },
   "source": [
    "# Module 03: Connect to Azure Cosmos DB SQL API with the SDK"
   ]
  },
  {
   "attachments": {},
   "cell_type": "markdown",
   "metadata": {},
   "source": [
    "## Import and use the Azure Cosmos DB SQL API SDK\n",
    "\n",
    "### Understand the SDK\n",
    "\n",
    "| **Class** | **Description** |\n",
    "| --- | --- |\n",
    "| Microsoft.Azure.Cosmos.**CosmosClient** | Client-side logical representation of an Azure Cosmos DB account and the primary class used for the SDK |\n",
    "| Microsoft.Azure.Cosmos.**Database** | Logically represents a database client-side and includes common operations for database management |\n",
    "| Microsoft.Azure.Cosmos.**Container** | Logically represents a container client-side and includes common operations for container management |\n",
    "\n",
    "### Import from package manager\n",
    "\n",
    "```bash\n",
    "dotnet add package Microsoft.Azure.Cosmos \\\n",
    "    --version 3.22.1\n",
    "```\n",
    "\n",
    "### .NET project file\n",
    "\n",
    "```xml\n",
    "<Project Sdk=\"Microsoft.NET.Sdk\">\n",
    "  <PropertyGroup>\n",
    "    <OutputType>Exe</OutputType>\n",
    "    <TargetFramework>net6.0</TargetFramework>\n",
    "  </PropertyGroup>\n",
    "  <ItemGroup>\n",
    "    <PackageReference Include=\"Microsoft.Azure.Cosmos\" Version=\"3.22.1\" />\n",
    "  </ItemGroup>\n",
    "</Project>\n",
    "```"
   ]
  },
  {
   "attachments": {},
   "cell_type": "markdown",
   "metadata": {},
   "source": [
    "### Connect to an online account - with connection string"
   ]
  },
  {
   "cell_type": "code",
   "execution_count": null,
   "metadata": {
    "dotnet_interactive": {
     "language": "csharp"
    },
    "vscode": {
     "languageId": "dotnet-interactive.csharp"
    }
   },
   "outputs": [],
   "source": [
    "using Microsoft.Azure.Cosmos;\n",
    "\n",
    "Console.WriteLine($\"Using connectionString: {connectionString}\");\n",
    "\n",
    "CosmosClient client = new (connectionString);\n",
    "\n",
    "client"
   ]
  },
  {
   "attachments": {},
   "cell_type": "markdown",
   "metadata": {},
   "source": [
    "### Connect to an online account - with endpoint and key"
   ]
  },
  {
   "attachments": {},
   "cell_type": "markdown",
   "metadata": {},
   "source": [
    "## Configure the Azure Cosmos DB SQL API SDK"
   ]
  },
  {
   "cell_type": "code",
   "execution_count": null,
   "metadata": {
    "dotnet_interactive": {
     "language": "csharp"
    },
    "vscode": {
     "languageId": "dotnet-interactive.csharp"
    }
   },
   "outputs": [],
   "source": [
    "using Microsoft.Azure.Cosmos;\n",
    "\n",
    "Console.WriteLine($\"Using documentEndpoint: {documentEndpoint}\");\n",
    "Console.WriteLine($\"Using primaryMasterKey: {primaryMasterKey}\");\n",
    "\n",
    "CosmosClient client = new (documentEndpoint, primaryMasterKey);\n",
    "\n",
    "client"
   ]
  },
  {
   "attachments": {},
   "cell_type": "markdown",
   "metadata": {},
   "source": [
    "### Read properties of the account\n",
    "\n",
    "The **AccountProperties** class includes useful properties such as, but not limited to:\n",
    "\n",
    "| **Property** | **Description** |\n",
    "| --- | --- |\n",
    "| **Id** | Gets the unique name of the account |\n",
    "| **ReadableRegions** | Gets a list of readable locations for the account |\n",
    "| **WritableRegions** | Gets a list of writable locations for the account |\n",
    "| **Consistency** | Gets the default consistency level for the account |"
   ]
  },
  {
   "cell_type": "code",
   "execution_count": null,
   "metadata": {
    "dotnet_interactive": {
     "language": "csharp"
    },
    "vscode": {
     "languageId": "dotnet-interactive.csharp"
    }
   },
   "outputs": [],
   "source": [
    "AccountProperties account = await client.ReadAccountAsync();\n",
    "\n",
    "account"
   ]
  },
  {
   "attachments": {},
   "cell_type": "markdown",
   "metadata": {},
   "source": [
    "### Interact with a database"
   ]
  },
  {
   "cell_type": "code",
   "execution_count": null,
   "metadata": {
    "dotnet_interactive": {
     "language": "csharp"
    },
    "vscode": {
     "languageId": "dotnet-interactive.csharp"
    }
   },
   "outputs": [],
   "source": [
    "// Retrieve an existing database\n",
    "Database database = client.GetDatabase(\"cosmicworks\");\n",
    "\n",
    "database"
   ]
  },
  {
   "cell_type": "code",
   "execution_count": null,
   "metadata": {
    "dotnet_interactive": {
     "language": "csharp"
    },
    "vscode": {
     "languageId": "dotnet-interactive.csharp"
    }
   },
   "outputs": [],
   "source": [
    "// Create a new database\n",
    "Database database = await client.CreateDatabaseAsync(\"cosmicworks\");\n",
    "\n",
    "// Note there can be an exception when the database already exists...\n",
    "// Error: Microsoft.Azure.Cosmos.CosmosException : Response status code does not indicate success: Conflict (409)"
   ]
  },
  {
   "cell_type": "code",
   "execution_count": null,
   "metadata": {
    "dotnet_interactive": {
     "language": "csharp"
    },
    "vscode": {
     "languageId": "dotnet-interactive.csharp"
    }
   },
   "outputs": [],
   "source": [
    "// Create database if it doesn't already exist\n",
    "Database database = await client.CreateDatabaseIfNotExistsAsync(\"cosmicworks\");\n",
    "\n",
    "database"
   ]
  },
  {
   "attachments": {},
   "cell_type": "markdown",
   "metadata": {},
   "source": [
    "### Interact with a container"
   ]
  },
  {
   "cell_type": "code",
   "execution_count": null,
   "metadata": {
    "dotnet_interactive": {
     "language": "csharp"
    },
    "vscode": {
     "languageId": "dotnet-interactive.csharp"
    }
   },
   "outputs": [],
   "source": [
    "// Retrieve an existing container\n",
    "Container container = database.GetContainer(\"products\");\n",
    "\n",
    "container"
   ]
  },
  {
   "cell_type": "code",
   "execution_count": null,
   "metadata": {
    "dotnet_interactive": {
     "language": "csharp"
    },
    "vscode": {
     "languageId": "dotnet-interactive.csharp"
    }
   },
   "outputs": [],
   "source": [
    "// Create a new container\n",
    "Container container = await database.CreateContainerAsync(\n",
    "    \"cosmicworks\", \n",
    "    \"/categoryId\", \n",
    "    400 \n",
    ");\n",
    "\n",
    "container"
   ]
  },
  {
   "cell_type": "code",
   "execution_count": null,
   "metadata": {
    "dotnet_interactive": {
     "language": "csharp"
    },
    "vscode": {
     "languageId": "dotnet-interactive.csharp"
    }
   },
   "outputs": [],
   "source": [
    "// Create container if it doesn't already exist\n",
    "Container container = await database.CreateContainerIfNotExistsAsync(\n",
    "    \"cosmicworks\", \n",
    "    \"/categoryId\", \n",
    "    400 \n",
    ");\n",
    "\n",
    "container"
   ]
  },
  {
   "attachments": {},
   "cell_type": "markdown",
   "metadata": {},
   "source": [
    "## Implement client singleton\n",
    "\n",
    "Each instance of the CosmosClient class has a few features that are already implemented on your behalf:\n",
    "\n",
    "- Instances are already thread-safe\n",
    "- Instances efficiently manage connections\n"
   ]
  },
  {
   "attachments": {},
   "cell_type": "markdown",
   "metadata": {},
   "source": [
    "## Configure connectivity mode\n",
    "\n",
    "![image](https://docs.microsoft.com/en-us/azure/cosmos-db/sql/media/performance-tips/connection-policy.png)"
   ]
  },
  {
   "attachments": {},
   "cell_type": "markdown",
   "metadata": {},
   "source": [
    "## Gateway mode\n",
    "\n",
    "- Gateway mode is supported on all SDK platforms. If your application runs within a corporate network with strict firewall restrictions, gateway mode is the best choice because it uses the standard HTTPS port and a single DNS endpoint\n",
    "- The performance tradeoff, however, is that gateway mode involves an additional network hop every time data is read from or written to Azure Cosmos DB\n",
    "- We also recommend gateway connection mode when you run applications in environments that have a limited number of socket connections."
   ]
  },
  {
   "attachments": {},
   "cell_type": "markdown",
   "metadata": {},
   "source": [
    "## Direct mode\n",
    "\n",
    "- Direct mode supports connectivity through TCP protocol, using TLS for initial authentication and encrypting traffic, and offers better performance because there are fewer network hops\n",
    "- The application connects directly to the backend replicas. Direct mode is currently only supported on .NET and Java SDK platforms."
   ]
  },
  {
   "cell_type": "code",
   "execution_count": null,
   "metadata": {
    "dotnet_interactive": {
     "language": "csharp"
    },
    "vscode": {
     "languageId": "dotnet-interactive.csharp"
    }
   },
   "outputs": [],
   "source": [
    "// Configures the client to use Direct connection mode.\n",
    "CosmosClientOptions options = new () { ConnectionMode = ConnectionMode.Direct };\n",
    "CosmosClient client = new (documentEndpoint, primaryMasterKey, options);\n",
    "\n",
    "client"
   ]
  },
  {
   "cell_type": "code",
   "execution_count": null,
   "metadata": {
    "dotnet_interactive": {
     "language": "csharp"
    },
    "vscode": {
     "languageId": "dotnet-interactive.csharp"
    }
   },
   "outputs": [],
   "source": [
    "// Configures the client to use Gateway connection mode.\n",
    "CosmosClientOptions options = new () { ConnectionMode = ConnectionMode.Gateway };\n",
    "CosmosClient client = new (documentEndpoint, primaryMasterKey, options);\n",
    "\n",
    "client"
   ]
  },
  {
   "attachments": {},
   "cell_type": "markdown",
   "metadata": {},
   "source": [
    "### Setting the preferred application region[s]"
   ]
  },
  {
   "cell_type": "code",
   "execution_count": null,
   "metadata": {
    "dotnet_interactive": {
     "language": "csharp"
    },
    "vscode": {
     "languageId": "dotnet-interactive.csharp"
    }
   },
   "outputs": [],
   "source": [
    "// Configs single preferred region for client to connect to.\n",
    "CosmosClientOptions options = new () { ApplicationRegion = Regions.WestEurope };\n",
    "CosmosClient client = new (documentEndpoint, primaryMasterKey, options);\n",
    "\n",
    "client"
   ]
  },
  {
   "cell_type": "code",
   "execution_count": null,
   "metadata": {
    "dotnet_interactive": {
     "language": "csharp"
    },
    "vscode": {
     "languageId": "dotnet-interactive.csharp"
    }
   },
   "outputs": [],
   "source": [
    "// Configs the client to use custom failover/priority list.\n",
    "CosmosClientOptions options = new () { ApplicationPreferredRegions = new List<string> { Regions.WestEurope, Regions.NorthEurope } };\n",
    "CosmosClient client = new (documentEndpoint, primaryMasterKey, options);\n",
    "\n",
    "client"
   ]
  },
  {
   "attachments": {},
   "cell_type": "markdown",
   "metadata": {},
   "source": [
    "## DEMO Tear down"
   ]
  },
  {
   "cell_type": "code",
   "execution_count": null,
   "metadata": {
    "dotnet_interactive": {
     "language": "csharp"
    },
    "vscode": {
     "languageId": "dotnet-interactive.csharp"
    }
   },
   "outputs": [],
   "source": [
    "await database.DeleteAsync();"
   ]
  }
 ],
 "metadata": {
  "kernelspec": {
   "display_name": ".NET (C#)",
   "language": "C#",
   "name": ".net-csharp"
  },
  "language_info": {
   "name": "C#"
  }
 },
 "nbformat": 4,
 "nbformat_minor": 2
}
