{
 "cells": [
  {
   "attachments": {},
   "cell_type": "markdown",
   "metadata": {},
   "source": [
    "# Module 12: Manage an Azure Cosmos DB SQL API solution using DevOps practices"
   ]
  },
  {
   "attachments": {},
   "cell_type": "markdown",
   "metadata": {},
   "source": [
    "## Write management scripts for Azure Cosmos DB SQL API"
   ]
  },
  {
   "attachments": {},
   "cell_type": "markdown",
   "metadata": {},
   "source": [
    "### Create resources\n",
    "\n",
    "In this module, we will use Azure CLI to manage Azure Cosmos DB SQL API accounts."
   ]
  },
  {
   "cell_type": "code",
   "execution_count": null,
   "metadata": {
    "dotnet_interactive": {
     "language": "pwsh"
    },
    "vscode": {
     "languageId": "polyglot-notebook"
    }
   },
   "outputs": [],
   "source": [
    "az cosmosdb create --help"
   ]
  },
  {
   "attachments": {},
   "cell_type": "markdown",
   "metadata": {},
   "source": [
    "Create the account"
   ]
  },
  {
   "cell_type": "code",
   "execution_count": null,
   "metadata": {
    "dotnet_interactive": {
     "language": "pwsh"
    },
    "vscode": {
     "languageId": "polyglot-notebook"
    }
   },
   "outputs": [],
   "source": [
    "az cosmosdb create `\n",
    "  --name 'cosmos-dp-420-sql-cli' `\n",
    "  --resource-group 'rg-dp-420' `\n",
    "  --default-consistency-level 'eventual' `\n",
    "  --enable-free-tier 'true' `\n",
    "  --locations regionName='eastus'"
   ]
  },
  {
   "attachments": {},
   "cell_type": "markdown",
   "metadata": {},
   "source": [
    "Create a database"
   ]
  },
  {
   "cell_type": "code",
   "execution_count": null,
   "metadata": {
    "dotnet_interactive": {
     "language": "pwsh"
    },
    "vscode": {
     "languageId": "polyglot-notebook"
    }
   },
   "outputs": [],
   "source": [
    "az cosmosdb sql database create `\n",
    "  --account-name 'cosmos-dp-420-sql-cli' `\n",
    "  --resource-group 'rg-dp-420' `\n",
    "  --name 'mydatabase'"
   ]
  },
  {
   "attachments": {},
   "cell_type": "markdown",
   "metadata": {},
   "source": [
    "Create a container"
   ]
  },
  {
   "cell_type": "code",
   "execution_count": null,
   "metadata": {
    "dotnet_interactive": {
     "language": "pwsh"
    },
    "vscode": {
     "languageId": "polyglot-notebook"
    }
   },
   "outputs": [],
   "source": [
    "az cosmosdb sql container create `\n",
    "    --account-name 'cosmos-dp-420-sql-cli' `\n",
    "    --resource-group 'rg-dp-420' `\n",
    "    --database-name \"mydatabase\" `\n",
    "    --name mycontainer `\n",
    "    --partition-key-path \"/my/path\" `\n",
    "    --ttl 1000 `\n",
    "    --throughput \"400\"\n"
   ]
  },
  {
   "attachments": {},
   "cell_type": "markdown",
   "metadata": {},
   "source": [
    "### Manage index policies\n",
    "\n",
    "When creating a container, you specify the indexing policy using CLI."
   ]
  },
  {
   "cell_type": "code",
   "execution_count": null,
   "metadata": {
    "dotnet_interactive": {
     "language": "pwsh"
    },
    "vscode": {
     "languageId": "polyglot-notebook"
    }
   },
   "outputs": [],
   "source": [
    "az cosmosdb sql container create `\n",
    "    --account-name 'cosmos-dp-420-sql-cli' `\n",
    "    --resource-group 'rg-dp-420' `\n",
    "    --database-name \"mydatabase\" `\n",
    "    --name mycontainerwithindex `\n",
    "    --partition-key-path \"/my/path\" `\n",
    "    --ttl 1000 `\n",
    "    --throughput \"400\" `\n",
    "    --idx '{\\\"indexingMode\\\":\\\"consistent\\\",\\\"automatic\\\":true,\\\"includedPaths\\\":[{\\\"path\\\":\\\"/*\\\"}],\\\"excludedPaths\\\":[{\\\"path\\\":\\\"/headquarters/*\\\"},{\\\"path\\\":\\\"/\\\\\\\"_etag\\\\\\\"/?\\\"}]}’\n"
   ]
  },
  {
   "attachments": {},
   "cell_type": "markdown",
   "metadata": {},
   "source": [
    "### Configure database or container-provisioned throughput\n",
    "\n",
    "You can manage the provisioned throughput for both containers and databases using the CLI."
   ]
  },
  {
   "cell_type": "code",
   "execution_count": null,
   "metadata": {
    "dotnet_interactive": {
     "language": "pwsh"
    },
    "vscode": {
     "languageId": "polyglot-notebook"
    }
   },
   "outputs": [],
   "source": [
    "az cosmosdb sql database create `\n",
    "  --account-name 'cosmos-dp-420-sql-cli' `\n",
    "  --resource-group 'rg-dp-420' `\n",
    "  --name 'mydatabasewiththroughput' `\n",
    "  --throughput 400"
   ]
  },
  {
   "cell_type": "code",
   "execution_count": null,
   "metadata": {
    "dotnet_interactive": {
     "language": "pwsh"
    },
    "vscode": {
     "languageId": "polyglot-notebook"
    }
   },
   "outputs": [],
   "source": [
    "az cosmosdb sql database throughput update `\n",
    "  --account-name 'cosmos-dp-420-sql-cli' `\n",
    "  --resource-group 'rg-dp-420' `\n",
    "  --name 'mydatabasewiththroughput' `\n",
    "  --throughput 600"
   ]
  },
  {
   "cell_type": "code",
   "execution_count": null,
   "metadata": {
    "dotnet_interactive": {
     "language": "pwsh"
    },
    "vscode": {
     "languageId": "polyglot-notebook"
    }
   },
   "outputs": [],
   "source": [
    "az cosmosdb sql container throughput update `\n",
    "    --account-name 'cosmos-dp-420-sql-cli' `\n",
    "    --resource-group 'rg-dp-420' `\n",
    "    --database-name \"mydatabase\" `\n",
    "    --name mycontainerwithindex `\n",
    "    --throughput 1000"
   ]
  },
  {
   "attachments": {},
   "cell_type": "markdown",
   "metadata": {},
   "source": [
    "### Migrate between standard and autoscale throughput"
   ]
  },
  {
   "cell_type": "code",
   "execution_count": null,
   "metadata": {
    "dotnet_interactive": {
     "language": "pwsh"
    },
    "vscode": {
     "languageId": "polyglot-notebook"
    }
   },
   "outputs": [],
   "source": [
    "az cosmosdb sql container throughput migrate `\n",
    "    --account-name 'cosmos-dp-420-sql-cli' `\n",
    "    --resource-group 'rg-dp-420' `\n",
    "    --database-name \"mydatabase\" `\n",
    "    --name mycontainerwithindex `\n",
    "    --throughput-type 'autoscale'"
   ]
  },
  {
   "cell_type": "code",
   "execution_count": null,
   "metadata": {
    "dotnet_interactive": {
     "language": "pwsh"
    },
    "vscode": {
     "languageId": "polyglot-notebook"
    }
   },
   "outputs": [],
   "source": [
    "az cosmosdb sql container throughput update `\n",
    "    --account-name 'cosmos-dp-420-sql-cli' `\n",
    "    --resource-group 'rg-dp-420' `\n",
    "    --database-name \"mydatabase\" `\n",
    "    --name mycontainerwithindex `\n",
    "    --max-throughput 2000"
   ]
  },
  {
   "cell_type": "code",
   "execution_count": null,
   "metadata": {
    "dotnet_interactive": {
     "language": "pwsh"
    },
    "vscode": {
     "languageId": "polyglot-notebook"
    }
   },
   "outputs": [],
   "source": [
    "az cosmosdb sql container throughput migrate `\n",
    "    --account-name 'cosmos-dp-420-sql-cli' `\n",
    "    --resource-group 'rg-dp-420' `\n",
    "    --database-name \"mydatabase\" `\n",
    "    --name mycontainerwithindex `\n",
    "    --throughput-type 'manual'"
   ]
  },
  {
   "attachments": {},
   "cell_type": "markdown",
   "metadata": {},
   "source": [
    "### Configure failovers and failover priorities\n",
    "\n",
    "Add account regions"
   ]
  },
  {
   "cell_type": "code",
   "execution_count": null,
   "metadata": {
    "dotnet_interactive": {
     "language": "pwsh"
    },
    "vscode": {
     "languageId": "polyglot-notebook"
    }
   },
   "outputs": [],
   "source": [
    "az cosmosdb update `\n",
    "    --name 'cosmos-dp-420-sql-cli' `\n",
    "    --resource-group 'rg-dp-420' `\n",
    "    --locations regionName='eastus' failoverPriority=0 isZoneRedundant=False `\n",
    "    --locations regionName='westus2' failoverPriority=1 isZoneRedundant=False `\n",
    "    --locations regionName='centralus' failoverPriority=2 isZoneRedundant=False"
   ]
  },
  {
   "attachments": {},
   "cell_type": "markdown",
   "metadata": {},
   "source": [
    "Remove account regions"
   ]
  },
  {
   "cell_type": "code",
   "execution_count": null,
   "metadata": {
    "dotnet_interactive": {
     "language": "pwsh"
    },
    "vscode": {
     "languageId": "polyglot-notebook"
    }
   },
   "outputs": [],
   "source": [
    "az cosmosdb update `\n",
    "  --name 'cosmos-dp-420-sql-cli' `\n",
    "  --resource-group 'rg-dp-420' `\n",
    "  --locations regionName='eastus' failoverPriority=0 isZoneRedundant=False `\n",
    "  --locations regionName='westus2' failoverPriority=1 isZoneRedundant=False"
   ]
  },
  {
   "attachments": {},
   "cell_type": "markdown",
   "metadata": {},
   "source": [
    "Enable automatic failover"
   ]
  },
  {
   "cell_type": "code",
   "execution_count": null,
   "metadata": {
    "dotnet_interactive": {
     "language": "pwsh"
    },
    "vscode": {
     "languageId": "polyglot-notebook"
    }
   },
   "outputs": [],
   "source": [
    "az cosmosdb update `\n",
    "  --name 'cosmos-dp-420-sql-cli' `\n",
    "  --resource-group 'rg-dp-420' `\n",
    "  --enable-automatic-failover 'true'"
   ]
  },
  {
   "attachments": {},
   "cell_type": "markdown",
   "metadata": {},
   "source": [
    "Change failover priorities"
   ]
  },
  {
   "cell_type": "code",
   "execution_count": null,
   "metadata": {
    "dotnet_interactive": {
     "language": "pwsh"
    },
    "vscode": {
     "languageId": "polyglot-notebook"
    }
   },
   "outputs": [],
   "source": [
    "az cosmosdb failover-priority-change `\n",
    "  --name 'cosmos-dp-420-sql-cli' `\n",
    "  --resource-group 'rg-dp-420' `\n",
    "  --failover-policies 'eastus=0' 'centralus=1' 'westus2=2'"
   ]
  },
  {
   "attachments": {},
   "cell_type": "markdown",
   "metadata": {},
   "source": [
    "Initiate failovers"
   ]
  },
  {
   "cell_type": "code",
   "execution_count": null,
   "metadata": {
    "dotnet_interactive": {
     "language": "pwsh"
    },
    "vscode": {
     "languageId": "polyglot-notebook"
    }
   },
   "outputs": [],
   "source": [
    "az cosmosdb failover-priority-change `\n",
    "  --name 'cosmos-dp-420-sql-cli' `\n",
    "  --resource-group 'rg-dp-420' `\n",
    "  --failover-policies 'westus2=0' 'eastus=1'"
   ]
  },
  {
   "attachments": {},
   "cell_type": "markdown",
   "metadata": {},
   "source": [
    "Enable multi-region write"
   ]
  },
  {
   "cell_type": "code",
   "execution_count": null,
   "metadata": {
    "dotnet_interactive": {
     "language": "pwsh"
    },
    "vscode": {
     "languageId": "polyglot-notebook"
    }
   },
   "outputs": [],
   "source": [
    "az cosmosdb update `\n",
    "  --name 'cosmos-dp-420-sql-cli' `\n",
    "  --resource-group 'rg-dp-420' `\n",
    "  --enable-multiple-write-locations 'true'"
   ]
  },
  {
   "attachments": {},
   "cell_type": "markdown",
   "metadata": {},
   "source": [
    "## Demo teardown"
   ]
  },
  {
   "cell_type": "code",
   "execution_count": null,
   "metadata": {
    "dotnet_interactive": {
     "language": "pwsh"
    },
    "vscode": {
     "languageId": "polyglot-notebook"
    }
   },
   "outputs": [],
   "source": [
    "az cosmosdb delete --name cosmos-dp-420-sql-cli --resource-group rg-dp-420 --yes"
   ]
  }
 ],
 "metadata": {
  "kernelspec": {
   "display_name": ".NET (C#)",
   "language": "C#",
   "name": ".net-csharp"
  },
  "language_info": {
   "name": "C#"
  }
 },
 "nbformat": 4,
 "nbformat_minor": 2
}
