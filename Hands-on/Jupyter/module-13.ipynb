{
 "cells": [
  {
   "attachments": {},
   "cell_type": "markdown",
   "metadata": {},
   "source": [
    "# Module 13: Create server-side programming constructs in Azure Cosmos DB SQL API"
   ]
  },
  {
   "attachments": {},
   "cell_type": "markdown",
   "metadata": {},
   "source": [
    "## Build multi-item transactions with the Azure Cosmos DB SQL API"
   ]
  },
  {
   "attachments": {},
   "cell_type": "markdown",
   "metadata": {},
   "source": [
    "### Understand transactions\n",
    "\n",
    "In a database, a transaction is typically defined as a sequence of point operations grouped together into a single unit of work. It's expected that a transaction provides ACID guarantees.\n",
    "\n",
    "- **Atomicity** guarantees that all the work done inside a transaction is treated as a single unit where either all of it is committed or none.\n",
    "- **Consistency** makes sure that the data is always in a healthy internal state across transactions.\n",
    "- **Isolation** guarantees that no two transactions interfere with each other – generally, most commercial systems provide multiple isolation levels that can be used based on the application's needs.\n",
    "- **Durability** ensures that any change that's committed in the database will always be present."
   ]
  },
  {
   "attachments": {},
   "cell_type": "markdown",
   "metadata": {},
   "source": [
    "### Author Stored procedures\n",
    "\n",
    "```javascript\n",
    "function createProduct(item) {\n",
    "    var context = getContext();\n",
    "    var container = context.getCollection(); \n",
    "    var accepted = container.createDocument(\n",
    "        container.getSelfLink(),\n",
    "        item,\n",
    "        (error, newItem) => {\n",
    "            if (error) throw error;\n",
    "            context.getResponse().setBody(newItem)\n",
    "        }\n",
    "    );\n",
    "    if (!accepted) return;\n",
    "}\n",
    "```"
   ]
  },
  {
   "attachments": {},
   "cell_type": "markdown",
   "metadata": {},
   "source": [
    "### Rollback transactions\n",
    "\n",
    "Azure Cosmos DB’s SQL API will roll back the entire transaction if a single exception is thrown from the strored procedure script.\n",
    "\n",
    "![image](https://docs.microsoft.com/en-us/learn/wwl-data-ai/build-multi-item-transactions-azure-cosmos-db-sql-api/media/4-rollback.png)"
   ]
  },
  {
   "attachments": {},
   "cell_type": "markdown",
   "metadata": {},
   "source": [
    "Check with following SQL Query if item was created:\n",
    "\n",
    "```sql\n",
    "SELECT * FROM c\n",
    "where c.name = \"Bike\"\n",
    "```"
   ]
  },
  {
   "attachments": {},
   "cell_type": "markdown",
   "metadata": {},
   "source": [
    "## Expand query and transaction functionality in Azure Cosmos DB SQL API"
   ]
  },
  {
   "attachments": {},
   "cell_type": "markdown",
   "metadata": {},
   "source": [
    "### Create User-defined functions (UDFs)\n",
    "\n",
    "UDFs are used to extend the Azure Cosmos DB SQL API’s query language grammar and implement custom business logic and can only be called from inside queries.\n",
    "\n",
    "Suppose you have the following item\n",
    "\n",
    "```json\n",
    "{ \n",
    "  \"name\": \"Black Bib Shorts (Small)\", \n",
    "  \"price\": 80.00 \n",
    "}\n",
    "```\n",
    "\n",
    "Create a UDF that calculates 15% tax\n",
    "\n",
    "```javascript\n",
    "function addTax(preTax) \n",
    "{ \n",
    "    return preTax * 1.15; \n",
    "}\n",
    "```\n",
    "\n",
    "Run this query that returns the price and the tax\n",
    "\n",
    "```sql\n",
    "SELECT \n",
    "    p.name, \n",
    "    p.price, \n",
    "    udf.addTax(p.price) AS priceWithTax \n",
    "FROM products p\n",
    "WHERE p.name = \"Black Bib Shorts (Small)“\n",
    "```"
   ]
  },
  {
   "attachments": {},
   "cell_type": "markdown",
   "metadata": {},
   "source": [
    "### Add triggers to an operation – Pre-trigger\n",
    "\n",
    "Pre-triggers are the core way that Azure Cosmos DB SQL API can inject business logic before an operations and cannot have any input parameters.\n",
    "\n",
    "Suppose you want to insert the following item\n",
    "\n",
    "```json\n",
    "{ \n",
    "  \"id\": \"caab0e5e-c037-48a4-a760-140497d19452\", \n",
    "  \"name\": \"Handlebar\", \n",
    "  \"categoryId\": \"e89a34d2-47ee-4da8-bcf6-10f552604b79\",\n",
    "  \"categoryName\": \"Accessories\", \n",
    "  \"price\": 50\n",
    "}\n",
    "```\n",
    "\n",
    "You want to automatically insert a \"label\" so that the document becomes\n",
    "\n",
    "```json\n",
    "{ \n",
    "  \"id\": \"caab0e5e-c037-48a4-a760-140497d19452\", \n",
    "  \"name\": \"Handlebar\", \n",
    "  \"categoryId\": \"e89a34d2-47ee-4da8-bcf6-10f552604b79\",\n",
    "  \"categoryName\": \"Accessories\", \n",
    "  \"price\": 50, \n",
    "  \"label\": \"new\"\n",
    "}\n",
    "```\n",
    "\n",
    "Define the following pre-trigger\n",
    "\n",
    "```javascript\n",
    "function addLabel(item) \n",
    "{ \n",
    "    var context = getContext(); \n",
    "    var request = context.getRequest(); \n",
    "    var pendingItem = request.getBody(); \n",
    "\n",
    "    if (!('label' in pendingItem)) \n",
    "        pendingItem['label'] = 'new’; \n",
    "\n",
    "    request.setBody(pendingItem); \n",
    "}\n",
    "```"
   ]
  },
  {
   "attachments": {},
   "cell_type": "markdown",
   "metadata": {},
   "source": [
    "### Add triggers to an operation – Post-trigger\n",
    "\n",
    "Post-triggers are the core way that Azure Cosmos DB SQL API can inject business logic after an operations completes and if needed, can have any input parameters.\n",
    "\n",
    "Define the following post-trigger\n",
    "\n",
    "```javascript\n",
    "function createView() \n",
    "{ \n",
    "    var context = getContext(); \n",
    "    var container = context.getCollection(); \n",
    "    var response = context.getResponse(); \n",
    "    var createdItem = response.getBody(); \n",
    "\n",
    "    var viewItem = { \n",
    "        sourceId: createdItem.id,\n",
    "        categoryId: createdItem.categoryId, \n",
    "        displayName: `${createdItem.name} [${createdItem.categoryName}]` \n",
    "    };\n",
    " \n",
    "    var accepted = container.createDocument( \n",
    "        container.getSelfLink(), \n",
    "        viewItem, (\n",
    "            error, newItem) => { if (error) throw error; } \n",
    "        ); \n",
    "\n",
    "    if (!accepted) return; \n",
    "}\n",
    "```\n",
    "\n",
    "When you insert the following item\n",
    "\n",
    "```json\n",
    "{ \n",
    "  \"id\": \"caab0e5e-c037-48a4-a760-140497d19452\", \n",
    "  \"name\": \"Handlebar\", \n",
    "  \"categoryId\": \"e89a34d2-47ee-4da8-bcf6-10f552604b79\",\n",
    "  \"categoryName\": \"Accessories\", \n",
    "  \"price\": 50\n",
    "}\n",
    "```\n",
    "\n",
    "The post-trigger will create this additional item\n",
    "\n",
    "```json\n",
    "{ \n",
    "    \"sourceId\": \"caab0e5e-c037-48a4-a760-140497d19452\", \n",
    "    \"categoryId\": \"e89a34d2-47ee-4da8-bcf6-10f552604b79\", \n",
    "    \"displayName\": \"Handlebar [Accessories]\"\n",
    "}\n",
    "```"
   ]
  }
 ],
 "metadata": {
  "kernelspec": {
   "display_name": ".NET (C#)",
   "language": "C#",
   "name": ".net-csharp"
  },
  "language_info": {
   "name": "C#"
  }
 },
 "nbformat": 4,
 "nbformat_minor": 2
}
